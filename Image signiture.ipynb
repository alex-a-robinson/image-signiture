{
 "metadata": {
  "name": "",
  "signature": "sha256:2ca712598cb841bf4763be332af1f9277f0d260a682794acb5035362cc23efe9"
 },
 "nbformat": 3,
 "nbformat_minor": 0,
 "worksheets": [
  {
   "cells": [
    {
     "cell_type": "code",
     "collapsed": false,
     "input": [],
     "language": "python",
     "metadata": {},
     "outputs": []
    },
    {
     "cell_type": "markdown",
     "metadata": {},
     "source": [
      "# Image signiture\n",
      "Take an image and compute a signuature for the image by averaging the colours in each quadrant and combining to create a 2x2 pixel image.\n",
      "\n",
      "## TODO:\n",
      "  - ~~Load image~~\n",
      "  - ~~Compute colour averages~~\n",
      "  - ~~Combine each quadrant~~\n",
      "  - ~~Resize image to display~~\n",
      "  - Compare image signiutes and determin similar images"
     ]
    },
    {
     "cell_type": "code",
     "collapsed": false,
     "input": [
      "import urllib\n",
      "f = open('data/firefox_logo.png', 'wb')\n",
      "f.write(urllib.urlopen('http://people.mozilla.org/~faaborg/files/shiretoko/firefoxIcon/firefox-512-noshadow.png').read())\n",
      "f.close()"
     ],
     "language": "python",
     "metadata": {},
     "outputs": [],
     "prompt_number": 53
    },
    {
     "cell_type": "code",
     "collapsed": false,
     "input": [
      "import matplotlib.pyplot as plt\n",
      "import numpy as np\n",
      "import cv2\n",
      "\n",
      "def image_signiture(image, sw, sh):\n",
      "    '''Creates an image signiture of width sw and height sh,\n",
      "    This is done by averaging the colours in buckets sized sw, sh\n",
      "    '''\n",
      "    w, h, _ =  image.shape\n",
      "\n",
      "    if sw > w or sh > h:\n",
      "        raise Exception('can\\'t find a smaller sig')\n",
      "\n",
      "    sig = np.zeros((sw, sh), dtype=(uint8,3))\n",
      "\n",
      "    for x in range(sw):\n",
      "        for y in range(sh):\n",
      "            sig[x][y] = cv2.mean(image[y * h/sh:y * h/sh + h/sh, x * w/sw:x * w/sw + w/sw])[:3]\n",
      "            \n",
      "    return sig\n",
      "\n",
      "        \n",
      "        \n",
      "image = cv2.imread('data/firefox_logo.png')\n",
      "\n",
      "plt.grid(True)\n",
      "\n",
      "plt.imshow(cv2.cvtColor(image_signiture(image, 8, 8), cv2.COLOR_BGR2RGB), interpolation=\"nearest\")"
     ],
     "language": "python",
     "metadata": {},
     "outputs": [
      {
       "metadata": {},
       "output_type": "pyout",
       "prompt_number": 198,
       "text": [
        "<matplotlib.image.AxesImage at 0x8427ad0>"
       ]
      },
      {
       "metadata": {},
       "output_type": "display_data",
       "png": "[encoded data removed]",
       "text": [
        "<matplotlib.figure.Figure at 0x747d310>"
       ]
      }
     ],
     "prompt_number": 198
    },
    {
     "cell_type": "code",
     "collapsed": false,
     "input": [
      "fig = plt.figure()\n",
      "def sig_helper(image_path, width, height):\n",
      "    image = cv2.imread(image_path)\n",
      "    ax = fig.add_subplot(111)\n",
      "    ax.imshow(cv2.cvtColor(image_signiture(image, width, height), cv2.COLOR_BGR2RGB), interpolation=\"nearest\")"
     ],
     "language": "python",
     "metadata": {},
     "outputs": [
      {
       "metadata": {},
       "output_type": "display_data",
       "text": [
        "<matplotlib.figure.Figure at 0x8903f90>"
       ]
      }
     ],
     "prompt_number": 213
    },
    {
     "cell_type": "code",
     "collapsed": false,
     "input": [
      "import urllib\n",
      "f = open('data/firefox_logo_2.png', 'wb')\n",
      "f.write(urllib.urlopen('http://upload.wikimedia.org/wikipedia/en/thumb/e/e3/Firefox-logo.svg/1072px-Firefox-logo.svg.png').read())\n",
      "f.close()\n",
      "\n",
      "f = open('data/firefox_logo_3.jpg', 'wb')\n",
      "f.write(urllib.urlopen('http://cdn.theatlantic.com/static/mt/assets/science/firefox-logo.jpg').read())\n",
      "f.close()\n",
      "\n",
      "f = open('data/firefox_logo_4.png', 'wb')\n",
      "f.write(urllib.urlopen('http://www.drexel.edu/~/media/Images/irt/computers/guide/firefox-icon.png').read())\n",
      "f.close()\n",
      "\n",
      "f = open('data/firefox_logo_5.gif', 'wb')\n",
      "f.write(urllib.urlopen('http://seeklogo.com/images/M/Mozilla_Firefox-logo-FC6614FC7E-seeklogo.com.gif').read())\n",
      "f.close()\n",
      "\n",
      "f = open('data/firefox_logo_6.gif', 'wb')\n",
      "f.write(urllib.urlopen('http://deweymaclab.wikispaces.com/file/view/firefox-icon.gif/38431344/287x280/firefox-icon.gif').read())\n",
      "f.close()"
     ],
     "language": "python",
     "metadata": {},
     "outputs": [],
     "prompt_number": 199
    },
    {
     "cell_type": "code",
     "collapsed": true,
     "input": [
      "width, height = 4, 4\n",
      "\n",
      "print \"Original\"\n",
      "sig_helper('data/firefox_logo.png', width, height)\n",
      "fig.show()\n",
      "print \"Similar 1\"\n",
      "sig_helper('data/firefox_logo_2.png', width, height)\n",
      "fig.show()\n",
      "print \"Similar 2\"\n",
      "sig_helper('data/firefox_logo_3.jpg', width, height)\n",
      "fig.show()\n",
      "\n",
      "\n",
      "print \"Similar 3\"\n",
      "sig_helper('data/firefox_logo_4.png', width, height)\n",
      "fig.show()\n",
      "''' Opencv doesn't like these gifs?\n",
      "print \"Similar 4\"\n",
      "sig_helper('data/firefox_logo_5.gif', width, height)\n",
      "fig.show()\n",
      "print \"Similar drawn\"\n",
      "sig_helper('data/firefox_logo_6.gif', width, height)\n",
      "fig.show()\n",
      "'''"
     ],
     "language": "python",
     "metadata": {},
     "outputs": [
      {
       "output_type": "stream",
       "stream": "stdout",
       "text": [
        "Original\n"
       ]
      },
      {
       "metadata": {},
       "output_type": "display_data",
       "png": "[encoded data removed]",
       "text": [
        "<matplotlib.figure.Figure at 0x8903f90>"
       ]
      },
      {
       "output_type": "stream",
       "stream": "stdout",
       "text": [
        "Similar 1\n"
       ]
      },
      {
       "metadata": {},
       "output_type": "display_data",
       "png": "[encoded data removed]",
       "text": [
        "<matplotlib.figure.Figure at 0x8903f90>"
       ]
      },
      {
       "output_type": "stream",
       "stream": "stdout",
       "text": [
        "Similar 2\n"
       ]
      },
      {
       "metadata": {},
       "output_type": "display_data",
       "png": "[encoded data removed]",
       "text": [
        "<matplotlib.figure.Figure at 0x8903f90>"
       ]
      },
      {
       "output_type": "stream",
       "stream": "stdout",
       "text": [
        "Similar 3\n"
       ]
      },
      {
       "metadata": {},
       "output_type": "display_data",
       "png": "[encoded data removed]",
       "text": [
        "<matplotlib.figure.Figure at 0x8903f90>"
       ]
      },
      {
       "metadata": {},
       "output_type": "pyout",
       "prompt_number": 236,
       "text": [
        "' Opencv doesn\\'t like these gifs?\\nprint \"Similar 4\"\\nsig_helper(\\'data/firefox_logo_5.gif\\', width, height)\\nfig.show()\\nprint \"Similar drawn\"\\nsig_helper(\\'data/firefox_logo_6.gif\\', width, height)\\nfig.show()\\n'"
       ]
      }
     ],
     "prompt_number": 236
    },
    {
     "cell_type": "code",
     "collapsed": false,
     "input": [],
     "language": "python",
     "metadata": {},
     "outputs": []
    }
   ],
   "metadata": {}
  }
 ]
}